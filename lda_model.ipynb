{
 "cells": [
  {
   "cell_type": "code",
   "execution_count": 4,
   "metadata": {},
   "outputs": [
    {
     "name": "stdout",
     "output_type": "stream",
     "text": [
      "Dictionary(35 unique tokens: [' ', '.', 'A', 'camera', 'dramatically']...)\n",
      "[[(0, 5), (1, 1), (2, 1), (3, 1), (4, 1), (5, 1), (6, 1), (7, 1)], [(0, 13), (1, 2), (2, 1), (8, 1), (9, 1), (10, 1), (11, 1), (12, 1), (13, 1), (14, 1), (15, 1), (16, 1), (17, 1), (18, 1), (19, 1), (20, 1), (21, 1), (22, 1), (23, 1)], [(0, 8), (1, 2), (24, 1), (25, 1), (26, 1), (27, 1), (28, 1), (29, 1), (30, 1), (31, 1), (32, 1)], [(0, 1), (1, 1), (22, 1), (23, 1), (33, 1), (34, 1)]]\n",
      "LdaModel(num_terms=35, num_topics=8, decay=0.5, chunksize=2000)\n"
     ]
    }
   ],
   "source": [
    "\n",
    "from gensim import corpora, models\n",
    "import jieba.posseg as jp\n",
    "import jieba\n",
    "\n",
    "input_content = [line.strip() for line in open ('input.txt', 'r')]\n",
    "# 老规矩，先分词\n",
    "words_list = []\n",
    "for text in input_content:\n",
    "  words = [w.word for w in jp.cut(text)]\n",
    "  words_list.append(words)\n",
    "\n",
    "# 构建文本统计信息, 遍历所有的文本，为每个不重复的单词分配序列id，同时收集该单词出现的次数\n",
    "dictionary = corpora.Dictionary(words_list)\n",
    "\n",
    "# 构建语料，将dictionary转化为一个词袋。\n",
    "# corpus是一个向量的列表，向量的个数就是文档数。你可以输出看一下它内部的结构是怎样的。\n",
    "corpus = [dictionary.doc2bow(words) for words in words_list]\n",
    "\n",
    "# 开始训练LDA模型\n",
    "lda_model = models.ldamodel.LdaModel(corpus=corpus, num_topics=8, id2word=dictionary, passes=10)\n",
    "from gensim import corpora, models\n",
    "import jieba.posseg as jp\n",
    "import jieba\n",
    "\n",
    "input_content = [line.strip() for line in open ('input.txt', 'r')]\n",
    "# 老规矩，先分词\n",
    "words_list = []\n",
    "for text in input_content:\n",
    "  words = [w.word for w in jp.cut(text)]\n",
    "  words_list.append(words)\n",
    "\n",
    "# 构建文本统计信息, 遍历所有的文本，为每个不重复的单词分配序列id，同时收集该单词出现的次数\n",
    "dictionary = corpora.Dictionary(words_list)\n",
    "print(dictionary)\n",
    "\n",
    "# 构建语料，将dictionary转化为一个词袋。\n",
    "# corpus是一个向量的列表，向量的个数就是文档数。你可以输出看一下它内部的结构是怎样的。\n",
    "corpus = [dictionary.doc2bow(words) for words in words_list]\n",
    "print(corpus)\n",
    "\n",
    "# 开始训练LDA模型\n",
    "lda_model = models.ldamodel.LdaModel(corpus=corpus, num_topics=8, id2word=dictionary, passes=10)\n",
    "print(lda_model)"
   ]
  }
 ],
 "metadata": {
  "interpreter": {
   "hash": "513ca14db817c4869cdc140aa0a1a9ae484806321a50eff9c6e854c12c22f146"
  },
  "kernelspec": {
   "display_name": "Python 3.9.7 ('base')",
   "language": "python",
   "name": "python3"
  },
  "language_info": {
   "codemirror_mode": {
    "name": "ipython",
    "version": 3
   },
   "file_extension": ".py",
   "mimetype": "text/x-python",
   "name": "python",
   "nbconvert_exporter": "python",
   "pygments_lexer": "ipython3",
   "version": "3.9.7"
  },
  "orig_nbformat": 4
 },
 "nbformat": 4,
 "nbformat_minor": 2
}
