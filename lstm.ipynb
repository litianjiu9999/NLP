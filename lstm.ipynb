{
 "cells": [
  {
   "cell_type": "code",
   "execution_count": 1,
   "metadata": {},
   "outputs": [
    {
     "data": {
      "text/plain": [
       "('neg',\n",
       " 'I rented I AM CURIOUS-YELLOW from my video store because of all the controversy that surrounded it when it was first released in 1967. I also heard that at first it was seized by U.S. customs if it ever tried to enter this country, therefore being a fan of films considered \"controversial\" I really had to see this for myself.<br /><br />The plot is centered around a young Swedish drama student named Lena who wants to learn everything she can about life. In particular she wants to focus her attentions to making some sort of documentary on what the average Swede thought about certain political issues such as the Vietnam War and race issues in the United States. In between asking politicians and ordinary denizens of Stockholm about their opinions on politics, she has sex with her drama teacher, classmates, and married men.<br /><br />What kills me about I AM CURIOUS-YELLOW is that 40 years ago, this was considered pornographic. Really, the sex and nudity scenes are few and far between, even then it\\'s not shot like some cheaply made porno. While my countrymen mind find it shocking, in reality sex and nudity are a major staple in Swedish cinema. Even Ingmar Bergman, arguably their answer to good old boy John Ford, had sex scenes in his films.<br /><br />I do commend the filmmakers for the fact that any sex shown in the film is shown for artistic purposes rather than just to shock people and make money to be shown in pornographic theaters in America. I AM CURIOUS-YELLOW is a good film for anyone wanting to study the meat and potatoes (no pun intended) of Swedish cinema. But really, this film doesn\\'t have much of a plot.')"
      ]
     },
     "execution_count": 1,
     "metadata": {},
     "output_type": "execute_result"
    }
   ],
   "source": [
    "# 读取IMDB数据集\n",
    "import torchtext\n",
    "train_iter = torchtext.datasets.IMDB(root='./data', split='train')\n",
    "next(train_iter)"
   ]
  },
  {
   "cell_type": "code",
   "execution_count": 2,
   "metadata": {},
   "outputs": [
    {
     "name": "stdout",
     "output_type": "stream",
     "text": [
      "['here', 'is', 'the', 'an', 'example', '!']\n",
      "[132, 10, 2, 41, 465, 0, 0]\n"
     ]
    },
    {
     "data": {
      "text/plain": [
       "'\\n输出：[131, 9, 40, 464, 0, 0]\\n'"
      ]
     },
     "execution_count": 2,
     "metadata": {},
     "output_type": "execute_result"
    }
   ],
   "source": [
    "\n",
    "# 创建分词器\n",
    "tokenizer = torchtext.data.utils.get_tokenizer('basic_english')\n",
    "print(tokenizer('here is the an example!'))\n",
    "'''\n",
    "输出：['here', 'is', 'the', 'an', 'example', '!']\n",
    "'''\n",
    "\n",
    "# 构建词汇表\n",
    "def yield_tokens(data_iter):\n",
    "    for _, text in data_iter:\n",
    "        yield tokenizer(text)\n",
    "\n",
    "vocab = torchtext.vocab.build_vocab_from_iterator(yield_tokens(train_iter), specials=[\"<pad>\", \"<unk>\"])\n",
    "vocab.set_default_index(vocab[\"<unk>\"])\n",
    "\n",
    "print(vocab(tokenizer('here is the an example <pad> <pad>')))\n",
    "'''\n",
    "输出：[131, 9, 40, 464, 0, 0]\n",
    "'''"
   ]
  },
  {
   "cell_type": "code",
   "execution_count": 3,
   "metadata": {},
   "outputs": [
    {
     "name": "stdout",
     "output_type": "stream",
     "text": [
      "[132, 10, 2, 41, 465]\n",
      "0\n"
     ]
    },
    {
     "data": {
      "text/plain": [
       "'\\n输出：0\\n'"
      ]
     },
     "execution_count": 3,
     "metadata": {},
     "output_type": "execute_result"
    }
   ],
   "source": [
    "\n",
    "# 数据处理pipelines\n",
    "text_pipeline = lambda x: vocab(tokenizer(x))\n",
    "label_pipeline = lambda x: 1 if x == 'pos' else 0\n",
    "\n",
    "print(text_pipeline('here is the an example'))\n",
    "'''\n",
    "输出：[131, 9, 40, 464, 0, 0 , ... , 0]\n",
    "'''\n",
    "print(label_pipeline('neg'))\n",
    "'''\n",
    "输出：0\n",
    "'''"
   ]
  },
  {
   "cell_type": "code",
   "execution_count": 4,
   "metadata": {},
   "outputs": [
    {
     "name": "stdout",
     "output_type": "stream",
     "text": [
      "True\n"
     ]
    }
   ],
   "source": [
    "# 生成训练数据\n",
    "import torch\n",
    "import torchtext\n",
    "from torch.utils.data import DataLoader\n",
    "from torch.utils.data.dataset import random_split\n",
    "from torchtext.data.functional import to_map_style_dataset\n",
    "\n",
    "device = torch.device(\"cuda\" if torch.cuda.is_available() else \"cpu\")\n",
    "print(torch.cuda.is_available())\n",
    "def collate_batch(batch):\n",
    "    max_length = 256\n",
    "    pad = text_pipeline('<pad>')\n",
    "    label_list, text_list, length_list = [], [], []\n",
    "    for (_label, _text) in batch:\n",
    "         label_list.append(label_pipeline(_label))\n",
    "         processed_text = text_pipeline(_text)[:max_length]\n",
    "         length_list.append(len(processed_text))\n",
    "         text_list.append((processed_text+pad*max_length)[:max_length])\n",
    "    label_list = torch.tensor(label_list, dtype=torch.int64)\n",
    "    text_list = torch.tensor(text_list, dtype=torch.int64)\n",
    "    length_list = torch.tensor(length_list, dtype=torch.int64)\n",
    "    return label_list.to(device), text_list.to(device), length_list.to(device)\n",
    "\n",
    "train_iter = torchtext.datasets.IMDB(root='./data', split='train')\n",
    "train_dataset = to_map_style_dataset(train_iter)\n",
    "num_train = int(len(train_dataset) * 0.95)\n",
    "split_train_, split_valid_ = random_split(train_dataset, \n",
    "                                         [num_train, len(train_dataset) - num_train])\n",
    "train_dataloader = DataLoader(split_train_, batch_size=8, shuffle=True, collate_fn=collate_batch)\n",
    "valid_dataloader = DataLoader(split_valid_, batch_size=8, shuffle=False, collate_fn=collate_batch)\n",
    "# 1. 利用 torchtext 读取 IMDB 的训练数据集，得到训练数据迭代器；\n",
    "# 2. 使用 to_map_style_dataset 函数将迭代器转化为 Dataset 类型；\n",
    "# 3. 使用 random_split 函数对 Dataset 进行划分，其中 95% 作为训练集，5% 作为验证集；\n",
    "# 4. 生成训练集的 DataLoader；\n",
    "# 5. 生成验证集的 DataLoader。"
   ]
  },
  {
   "cell_type": "code",
   "execution_count": 5,
   "metadata": {},
   "outputs": [],
   "source": [
    "# 定义模型\n",
    "class LSTM(torch.nn.Module):\n",
    "    def __init__(self, vocab_size, embedding_dim, hidden_dim, output_dim, n_layers, bidirectional,\n",
    "                 dropout_rate, pad_index=0):\n",
    "        super().__init__()\n",
    "        self.embedding = torch.nn.Embedding(vocab_size, embedding_dim, padding_idx=pad_index)\n",
    "        self.lstm = torch.nn.LSTM(embedding_dim, hidden_dim, n_layers, bidirectional=bidirectional,\n",
    "                            dropout=dropout_rate, batch_first=True)\n",
    "        self.fc = torch.nn.Linear(hidden_dim * 2 if bidirectional else hidden_dim, output_dim)\n",
    "        self.dropout = torch.nn.Dropout(dropout_rate)\n",
    "        \n",
    "    def forward(self, ids, length):\n",
    "        embedded = self.dropout(self.embedding(ids))\n",
    "        packed_embedded = torch.nn.utils.rnn.pack_padded_sequence(embedded, length.to('cpu'), batch_first=True, \n",
    "                                                            enforce_sorted=False)\n",
    "        packed_output, (hidden, cell) = self.lstm(packed_embedded)\n",
    "        output, output_length = torch.nn.utils.rnn.pad_packed_sequence(packed_output)\n",
    "        if self.lstm.bidirectional:\n",
    "            hidden = self.dropout(torch.cat([hidden[-1], hidden[-2]], dim=-1))\n",
    "        else:\n",
    "            hidden = self.dropout(hidden[-1])\n",
    "        prediction = self.fc(hidden)\n",
    "        return prediction"
   ]
  },
  {
   "cell_type": "code",
   "execution_count": 6,
   "metadata": {},
   "outputs": [],
   "source": [
    "\n",
    "# 实例化模型\n",
    "vocab_size = len(vocab)\n",
    "embedding_dim = 300\n",
    "hidden_dim = 300\n",
    "output_dim = 2\n",
    "n_layers = 2\n",
    "bidirectional = True\n",
    "dropout_rate = 0.5\n",
    "\n",
    "model = LSTM(vocab_size, embedding_dim, hidden_dim, output_dim, n_layers, bidirectional, dropout_rate)\n",
    "model = model.to(device)\n",
    "\n",
    "# 损失函数与优化方法\n",
    "lr = 5e-4\n",
    "criterion = torch.nn.CrossEntropyLoss()\n",
    "criterion = criterion.to(device)\n",
    "\n",
    "optimizer = torch.optim.Adam(model.parameters(), lr=lr)"
   ]
  },
  {
   "cell_type": "code",
   "execution_count": 7,
   "metadata": {},
   "outputs": [],
   "source": [
    "import tqdm\n",
    "import sys\n",
    "import numpy as np\n",
    "\n",
    "def train(dataloader, model, criterion, optimizer, device):\n",
    "    model = model.to(device)\n",
    "    print(device)\n",
    "    model.train()\n",
    "    epoch_losses = []\n",
    "    epoch_accs = []\n",
    "    for batch in tqdm.tqdm(dataloader, desc='training...', file=sys.stdout):\n",
    "        (label, ids, length) = batch\n",
    "        label = label.to(device)\n",
    "        ids = ids.to(device)\n",
    "        length = length.to(device)\n",
    "        prediction = model(ids, length)\n",
    "        loss = criterion(prediction, label) # loss计算\n",
    "        accuracy = get_accuracy(prediction, label)\n",
    "        # 梯度更新\n",
    "        optimizer.zero_grad()\n",
    "        loss.backward()\n",
    "        optimizer.step()\n",
    "        epoch_losses.append(loss.item())\n",
    "        epoch_accs.append(accuracy.item())\n",
    "    return epoch_losses, epoch_accs\n",
    "\n",
    "def evaluate(dataloader, model, criterion, device):\n",
    "    model.eval()\n",
    "    epoch_losses = []\n",
    "    epoch_accs = []\n",
    "    with torch.no_grad():\n",
    "        for batch in tqdm.tqdm(dataloader, desc='evaluating...', file=sys.stdout):\n",
    "            (label, ids, length) = batch\n",
    "            label = label.to(device)\n",
    "            ids = ids.to(device)\n",
    "            length = length.to(device)\n",
    "            prediction = model(ids, length)\n",
    "            loss = criterion(prediction, label) # loss计算\n",
    "            accuracy = get_accuracy(prediction, label)\n",
    "            epoch_losses.append(loss.item())\n",
    "            epoch_accs.append(accuracy.item())\n",
    "    return epoch_losses, epoch_accs\n",
    "\n",
    "\n",
    "def get_accuracy(prediction, label):\n",
    "    batch_size, _ = prediction.shape\n",
    "    predicted_classes = prediction.argmax(dim=-1)\n",
    "    correct_predictions = predicted_classes.eq(label).sum()\n",
    "    accuracy = correct_predictions / batch_size\n",
    "    return accuracy"
   ]
  },
  {
   "cell_type": "code",
   "execution_count": 8,
   "metadata": {},
   "outputs": [
    {
     "name": "stdout",
     "output_type": "stream",
     "text": [
      "cuda\n",
      "training...: 100%|██████████| 2969/2969 [05:13<00:00,  9.47it/s]\n",
      "evaluating...: 100%|██████████| 157/157 [00:04<00:00, 32.18it/s]\n",
      "epoch: 1\n",
      "train_loss: 0.654, train_acc: 0.610\n",
      "valid_loss: 0.623, valid_acc: 0.650\n",
      "cuda\n",
      "training...: 100%|██████████| 2969/2969 [04:40<00:00, 10.60it/s]\n",
      "evaluating...: 100%|██████████| 157/157 [00:04<00:00, 32.40it/s]\n",
      "epoch: 2\n",
      "train_loss: 0.550, train_acc: 0.719\n",
      "valid_loss: 0.497, valid_acc: 0.741\n",
      "cuda\n",
      "training...: 100%|██████████| 2969/2969 [04:39<00:00, 10.61it/s]\n",
      "evaluating...: 100%|██████████| 157/157 [00:04<00:00, 32.50it/s]\n",
      "epoch: 3\n",
      "train_loss: 0.405, train_acc: 0.820\n",
      "valid_loss: 0.480, valid_acc: 0.812\n",
      "cuda\n",
      "training...: 100%|██████████| 2969/2969 [04:42<00:00, 10.52it/s]\n",
      "evaluating...: 100%|██████████| 157/157 [00:04<00:00, 32.54it/s]\n",
      "epoch: 4\n",
      "train_loss: 0.328, train_acc: 0.864\n",
      "valid_loss: 0.434, valid_acc: 0.832\n",
      "cuda\n",
      "training...: 100%|██████████| 2969/2969 [04:39<00:00, 10.62it/s]\n",
      "evaluating...: 100%|██████████| 157/157 [00:04<00:00, 32.43it/s]\n",
      "epoch: 5\n",
      "train_loss: 0.276, train_acc: 0.888\n",
      "valid_loss: 0.488, valid_acc: 0.830\n",
      "cuda\n",
      "training...: 100%|██████████| 2969/2969 [04:39<00:00, 10.63it/s]\n",
      "evaluating...: 100%|██████████| 157/157 [00:04<00:00, 32.38it/s]\n",
      "epoch: 6\n",
      "train_loss: 0.227, train_acc: 0.909\n",
      "valid_loss: 0.325, valid_acc: 0.875\n",
      "cuda\n",
      "training...: 100%|██████████| 2969/2969 [04:40<00:00, 10.57it/s]\n",
      "evaluating...: 100%|██████████| 157/157 [00:04<00:00, 32.16it/s]\n",
      "epoch: 7\n",
      "train_loss: 0.193, train_acc: 0.924\n",
      "valid_loss: 0.318, valid_acc: 0.872\n",
      "cuda\n",
      "training...: 100%|██████████| 2969/2969 [04:40<00:00, 10.60it/s]\n",
      "evaluating...: 100%|██████████| 157/157 [00:04<00:00, 32.60it/s]\n",
      "epoch: 8\n",
      "train_loss: 0.163, train_acc: 0.939\n",
      "valid_loss: 0.375, valid_acc: 0.878\n",
      "cuda\n",
      "training...: 100%|██████████| 2969/2969 [04:39<00:00, 10.63it/s]\n",
      "evaluating...: 100%|██████████| 157/157 [00:04<00:00, 32.70it/s]\n",
      "epoch: 9\n",
      "train_loss: 0.140, train_acc: 0.947\n",
      "valid_loss: 0.355, valid_acc: 0.881\n",
      "cuda\n",
      "training...: 100%|██████████| 2969/2969 [04:39<00:00, 10.62it/s]\n",
      "evaluating...: 100%|██████████| 157/157 [00:04<00:00, 32.38it/s]\n",
      "epoch: 10\n",
      "train_loss: 0.116, train_acc: 0.955\n",
      "valid_loss: 0.393, valid_acc: 0.885\n"
     ]
    }
   ],
   "source": [
    "\n",
    "n_epochs = 10\n",
    "best_valid_loss = float('inf')\n",
    "\n",
    "train_losses = []\n",
    "train_accs = []\n",
    "valid_losses = []\n",
    "valid_accs = []\n",
    "\n",
    "for epoch in range(n_epochs):\n",
    "    train_loss, train_acc = train(train_dataloader, model, criterion, optimizer, device)\n",
    "    valid_loss, valid_acc = evaluate(valid_dataloader, model, criterion, device)\n",
    "    train_losses.extend(train_loss)\n",
    "    train_accs.extend(train_acc)\n",
    "    valid_losses.extend(valid_loss)\n",
    "    valid_accs.extend(valid_acc) \n",
    "    epoch_train_loss = np.mean(train_loss)\n",
    "    epoch_train_acc = np.mean(train_acc)\n",
    "    epoch_valid_loss = np.mean(valid_loss)\n",
    "    epoch_valid_acc = np.mean(valid_acc)    \n",
    "    if epoch_valid_loss < best_valid_loss:\n",
    "        best_valid_loss = epoch_valid_loss\n",
    "        torch.save(model.state_dict(), 'lstm.pt')   \n",
    "    print(f'epoch: {epoch+1}')\n",
    "    print(f'train_loss: {epoch_train_loss:.3f}, train_acc: {epoch_train_acc:.3f}')\n",
    "    print(f'valid_loss: {epoch_valid_loss:.3f}, valid_acc: {epoch_valid_acc:.3f}')"
   ]
  },
  {
   "cell_type": "code",
   "execution_count": 11,
   "metadata": {},
   "outputs": [
    {
     "name": "stdout",
     "output_type": "stream",
     "text": [
      "1.10.2\n"
     ]
    }
   ],
   "source": [
    "\n",
    "import torch\n",
    "print(torch.__version__) "
   ]
  }
 ],
 "metadata": {
  "interpreter": {
   "hash": "513ca14db817c4869cdc140aa0a1a9ae484806321a50eff9c6e854c12c22f146"
  },
  "kernelspec": {
   "display_name": "Python 3.9.7 ('base')",
   "language": "python",
   "name": "python3"
  },
  "language_info": {
   "codemirror_mode": {
    "name": "ipython",
    "version": 3
   },
   "file_extension": ".py",
   "mimetype": "text/x-python",
   "name": "python",
   "nbconvert_exporter": "python",
   "pygments_lexer": "ipython3",
   "version": "3.9.7"
  },
  "orig_nbformat": 4
 },
 "nbformat": 4,
 "nbformat_minor": 2
}
